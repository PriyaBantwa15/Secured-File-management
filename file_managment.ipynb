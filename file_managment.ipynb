{
 "cells": [
  {
   "cell_type": "code",
   "execution_count": null,
   "metadata": {},
   "outputs": [],
   "source": [
    "Firstly user need to login with their registered email\n",
    "Then if password is incorrect then he will have only 4 tries \n",
    "After login\n",
    "User have to select that what exactly he want to do with file read only , write or append \n",
    "But for all that process we will create a copy of the file in backend after editing done by user \n",
    "and when he download that file the copy will deleted automatically."
   ]
  },
  {
   "cell_type": "code",
   "execution_count": 1,
   "metadata": {},
   "outputs": [
    {
     "name": "stdout",
     "output_type": "stream",
     "text": [
      "login successfull\n",
      "User : user1\n"
     ]
    },
    {
     "ename": "",
     "evalue": "",
     "output_type": "error",
     "traceback": [
      "\u001b[1;31mThe Kernel crashed while executing code in the the current cell or a previous cell. Please review the code in the cell(s) to identify a possible cause of the failure. Click <a href='https://aka.ms/vscodeJupyterKernelCrash'>here</a> for more info. View Jupyter <a href='command:jupyter.viewOutput'>log</a> for further details."
     ]
    }
   ],
   "source": [
    "import os\n",
    "import shutil as sh\n",
    "class File:\n",
    "    def __init__(self):\n",
    "        self.folder=os.chdir(\"D:\\\\Priya Data\\\\Priya B.Tech sem 3\\\\Python\\\\project\\\\file\")\n",
    "        self.path=os.getcwd()\n",
    "        self.data={'user1':'1','user2':'xyz@456','user3':'lmn@123'}\n",
    "        u_name=input(\"Enter username: \")\n",
    "        self.u_name=u_name\n",
    "        if u_name in self.data:\n",
    "            passw=input(\"Enter password: \")\n",
    "            if passw == self.data[u_name]:\n",
    "                print(\"login successfull\")\n",
    "                print(f\"User : {u_name}\")\n",
    "\n",
    "                ask=input(\"Do you have your file or not\\n(write yes if file is existing or write no if file is not existing):\").lower()\n",
    "                if ask=='yes':\n",
    "                    self.choice_file()\n",
    "                elif ask=='no':\n",
    "                    self.create_file()\n",
    "                else:\n",
    "                    print(\"Enter valid information\")\n",
    "\n",
    "            else:\n",
    "                for i in range(4):\n",
    "                    print(\"You have \",4-i,\"tries\")\n",
    "                    passw=input(\"Incorrect password enter again:\")\n",
    "                    if passw == self.data[u_name]:\n",
    "                        print(\"login successfull\")\n",
    "                        print(f\"User : {u_name}\")\n",
    "\n",
    "                        ask=input(\"Do you have your file or not\\n(write yes if file is existing or write no if file is not existing):\").tolower()\n",
    "                        if ask=='yes':\n",
    "                            self.choice_file()\n",
    "                        elif ask=='no':\n",
    "                            self.create_file()\n",
    "                        else:\n",
    "                            print(\"Enter valid information\")\n",
    "                        \n",
    "                    else:\n",
    "                        print(\"Now you can login after 24 hours...\")\n",
    "        else:\n",
    "            print(\"Invalid username\")\n",
    "    def copy(self,file):\n",
    "        sh.copy(self.path+'\\\\'+file+'.txt', 'D:\\\\Priya Data\\\\Priya B.Tech sem 3\\\\Python\\\\project'+'\\\\'+file+'.txt')\n",
    "        \n",
    "    def create_file(self):\n",
    "        file=input(\"Enter the file name:\")\n",
    "        with open(file+\".txt\",'w')as c1:\n",
    "            print(\"Your file is created successfully\")\n",
    "            data=input(\"Enter the data in the file:\\n\")\n",
    "\n",
    "            c1.write(data)\n",
    "        self.copy(file)\n",
    "        self.choice_file()\n",
    "\n",
    "    def choice_file(self):\n",
    "        #-------------choice--------------\n",
    "        choice=int(input(\"\\nEnter your choice \\n1 for read only \\n2 for write \\n3 for appending \\n4 create file \\nEnter 5 for download your file \\nany number for exit: \"))\n",
    "        if choice==1:\n",
    "            self.read_file()\n",
    "        elif choice==2:\n",
    "            self.write_file()\n",
    "        elif choice==3:\n",
    "            self.append_file()\n",
    "        elif choice==4:\n",
    "            self.create_file()\n",
    "        elif choice==5:\n",
    "            self.download()\n",
    "        \n",
    "        else:\n",
    "            exit()\n",
    "    def read_file(self):\n",
    "        file=input(\"Enter the file name:\")\n",
    "        with open(file+\".txt\",'r') as self.r1:\n",
    "            print(\"Your file data:\\n\\n\\n\")\n",
    "            print(self.r1.read())\n",
    "        self.choice_file()\n",
    "    \n",
    "    \n",
    "    def write_file(self):\n",
    "        file=input(\"Enter the file name:\")\n",
    "        with open(file+\".txt\",'w') as self.r2:\n",
    "            print(\"\\nYour file data is removed now you can write:\\n\")\n",
    "            data=input(\"Enter the data that you want to add in your file:\\n\")\n",
    "            self.r2.write(data)\n",
    "            print(\"File is updated successfully\")\n",
    "        self.copy(file)\n",
    "        self.choice_file()\n",
    "\n",
    "\n",
    "    def append_file(self):\n",
    "        self.file=input(\"Enter the file name:\")\n",
    "        with open(self.file+\".txt\",'a') as self.r3:\n",
    "            data=input(\"Enter the data that you want to append in your file:\\n\")\n",
    "            self.r3.write(\"\\n\"+data)\n",
    "            print(\"File is updated successfully\")\n",
    "        self.copy(self.file)\n",
    "        self.choice_file()\n",
    "\n",
    "    def download(self):\n",
    "        file=input(\"Enter the file name with extension:\")\n",
    "        print(\"This is the path of your file you can download:\\n\",self.path)\n",
    "        ask=input(\"Did you downloaded your file:(yes or no):\\n\").lower()\n",
    "        if ask=='yes':\n",
    "            self.delete(file)\n",
    "        elif ask=='no':\n",
    "            print(\"This is the path of your file you can download:\\n\",self.path)\n",
    "            self.delete(file)\n",
    "    \n",
    "    def delete(self,file):\n",
    "        os.remove(self.path+\"\\\\\"+file)\n",
    "    \n",
    "try:\n",
    "    obj=File()\n",
    "except Exception as e:\n",
    "    print(e)\n"
   ]
  },
  {
   "cell_type": "code",
   "execution_count": 1,
   "metadata": {},
   "outputs": [
    {
     "name": "stdout",
     "output_type": "stream",
     "text": [
      "Collecting pyinstaller\n",
      "  Downloading pyinstaller-5.8.0-py3-none-win_amd64.whl (1.3 MB)\n",
      "     ---------------------------------------- 1.3/1.3 MB 1.0 MB/s eta 0:00:00\n",
      "Collecting pefile>=2022.5.30\n",
      "  Downloading pefile-2023.2.7-py3-none-any.whl (71 kB)\n",
      "     -------------------------------------- 71.8/71.8 kB 977.0 kB/s eta 0:00:00\n",
      "Requirement already satisfied: setuptools>=42.0.0 in d:\\pbantwa\\anaconda\\lib\\site-packages (from pyinstaller) (63.4.1)\n",
      "Collecting altgraph\n",
      "  Using cached altgraph-0.17.3-py2.py3-none-any.whl (21 kB)\n",
      "Requirement already satisfied: pywin32-ctypes>=0.2.0 in d:\\pbantwa\\anaconda\\lib\\site-packages (from pyinstaller) (0.2.0)\n",
      "Collecting pyinstaller-hooks-contrib>=2021.4\n",
      "  Downloading pyinstaller_hooks_contrib-2023.0-py2.py3-none-any.whl (255 kB)\n",
      "     -------------------------------------- 255.7/255.7 kB 1.1 MB/s eta 0:00:00\n",
      "Installing collected packages: altgraph, pyinstaller-hooks-contrib, pefile, pyinstaller\n",
      "Successfully installed altgraph-0.17.3 pefile-2023.2.7 pyinstaller-5.8.0 pyinstaller-hooks-contrib-2023.0\n",
      "Note: you may need to restart the kernel to use updated packages.\n"
     ]
    }
   ],
   "source": [
    "pip install pyinstaller"
   ]
  },
  {
   "cell_type": "code",
   "execution_count": 2,
   "metadata": {},
   "outputs": [
    {
     "ename": "NameError",
     "evalue": "name 'pyinstaller' is not defined",
     "output_type": "error",
     "traceback": [
      "\u001b[1;31m---------------------------------------------------------------------------\u001b[0m",
      "\u001b[1;31mNameError\u001b[0m                                 Traceback (most recent call last)",
      "\u001b[1;32m~\\AppData\\Local\\Temp\\ipykernel_40160\\1378659298.py\u001b[0m in \u001b[0;36m<module>\u001b[1;34m\u001b[0m\n\u001b[1;32m----> 1\u001b[1;33m \u001b[0mpyinstaller\u001b[0m \u001b[1;33m-\u001b[0m\u001b[1;33m-\u001b[0m\u001b[0monefile\u001b[0m \u001b[1;33m-\u001b[0m\u001b[0mw\u001b[0m\u001b[1;33m\u001b[0m\u001b[1;33m\u001b[0m\u001b[0m\n\u001b[0m",
      "\u001b[1;31mNameError\u001b[0m: name 'pyinstaller' is not defined"
     ]
    }
   ],
   "source": [
    "pyinstaller --onefile -w "
   ]
  },
  {
   "cell_type": "code",
   "execution_count": 3,
   "metadata": {},
   "outputs": [],
   "source": [
    "import os\n",
    "os.chdir('d:')"
   ]
  },
  {
   "cell_type": "code",
   "execution_count": 4,
   "metadata": {},
   "outputs": [
    {
     "name": "stdout",
     "output_type": "stream",
     "text": [
      "Requirement already satisfied: pyinstaller in d:\\pbantwa\\anaconda\\lib\\site-packages (5.8.0)\n",
      "Requirement already satisfied: pyinstaller-hooks-contrib>=2021.4 in d:\\pbantwa\\anaconda\\lib\\site-packages (from pyinstaller) (2023.0)\n",
      "Requirement already satisfied: pywin32-ctypes>=0.2.0 in d:\\pbantwa\\anaconda\\lib\\site-packages (from pyinstaller) (0.2.0)\n",
      "Requirement already satisfied: pefile>=2022.5.30 in d:\\pbantwa\\anaconda\\lib\\site-packages (from pyinstaller) (2023.2.7)\n",
      "Requirement already satisfied: setuptools>=42.0.0 in d:\\pbantwa\\anaconda\\lib\\site-packages (from pyinstaller) (63.4.1)\n",
      "Requirement already satisfied: altgraph in d:\\pbantwa\\anaconda\\lib\\site-packages (from pyinstaller) (0.17.3)\n",
      "Note: you may need to restart the kernel to use updated packages.\n"
     ]
    }
   ],
   "source": [
    "pip install pyinstaller\n"
   ]
  },
  {
   "cell_type": "code",
   "execution_count": null,
   "metadata": {},
   "outputs": [],
   "source": []
  }
 ],
 "metadata": {
  "kernelspec": {
   "display_name": "base",
   "language": "python",
   "name": "python3"
  },
  "language_info": {
   "codemirror_mode": {
    "name": "ipython",
    "version": 3
   },
   "file_extension": ".py",
   "mimetype": "text/x-python",
   "name": "python",
   "nbconvert_exporter": "python",
   "pygments_lexer": "ipython3",
   "version": "3.9.13"
  },
  "orig_nbformat": 4,
  "vscode": {
   "interpreter": {
    "hash": "74c613293efbca88ef7d6864cf120f3abb2aba32420bcfd7cb8687eb6b6f8be7"
   }
  }
 },
 "nbformat": 4,
 "nbformat_minor": 2
}
